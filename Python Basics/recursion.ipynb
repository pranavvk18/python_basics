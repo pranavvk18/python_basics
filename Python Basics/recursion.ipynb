{
 "cells": [
  {
   "cell_type": "markdown",
   "metadata": {},
   "source": [
    " It is even possible for the function to call itself. These types of construct are termed as recursive functions."
   ]
  },
  {
   "cell_type": "code",
   "execution_count": 2,
   "metadata": {},
   "outputs": [
    {
     "name": "stdout",
     "output_type": "stream",
     "text": [
      "24\n"
     ]
    }
   ],
   "source": [
    "#factorial(n)=n*factorial(n-1)\n",
    "def factorial(n):\n",
    "    if(n==0):\n",
    "        return 1;\n",
    "    else:\n",
    "     return n*factorial(n-1);\n",
    "print(factorial(4))"
   ]
  },
  {
   "cell_type": "code",
   "execution_count": 6,
   "metadata": {},
   "outputs": [
    {
     "name": "stdout",
     "output_type": "stream",
     "text": [
      "8\n"
     ]
    }
   ],
   "source": [
    "#fibonacci series\n",
    "def fibonacci(n):\n",
    "    if(n==0):\n",
    "        return 0;\n",
    "    elif(n==1):\n",
    "        return 1;\n",
    "    else:\n",
    "        return fibonacci(n-1)+fibonacci(n-2)\n",
    "print(fibonacci(6))\n"
   ]
  },
  {
   "cell_type": "code",
   "execution_count": null,
   "metadata": {},
   "outputs": [],
   "source": []
  }
 ],
 "metadata": {
  "kernelspec": {
   "display_name": "Python 3",
   "language": "python",
   "name": "python3"
  },
  "language_info": {
   "codemirror_mode": {
    "name": "ipython",
    "version": 3
   },
   "file_extension": ".py",
   "mimetype": "text/x-python",
   "name": "python",
   "nbconvert_exporter": "python",
   "pygments_lexer": "ipython3",
   "version": "3.11.0"
  }
 },
 "nbformat": 4,
 "nbformat_minor": 2
}
