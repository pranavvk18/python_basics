{
 "cells": [
  {
   "cell_type": "markdown",
   "metadata": {},
   "source": [
    "A local variable is a variable that is defined within a function and is only accessible within that function. It is created when the function is called and is destroyed when the function returns."
   ]
  },
  {
   "cell_type": "markdown",
   "metadata": {},
   "source": [
    "A global variable is a variable that is defined outside of a function and is accessible from within any function in your code."
   ]
  },
  {
   "cell_type": "code",
   "execution_count": 3,
   "metadata": {},
   "outputs": [
    {
     "name": "stdout",
     "output_type": "stream",
     "text": [
      "4\n",
      "5\n",
      "4\n"
     ]
    }
   ],
   "source": [
    "x=4\n",
    "print(x)\n",
    "def hello():\n",
    "    x=5\n",
    "    print(x)\n",
    "hello()\n",
    "print(x)"
   ]
  },
  {
   "cell_type": "code",
   "execution_count": 4,
   "metadata": {},
   "outputs": [
    {
     "name": "stdout",
     "output_type": "stream",
     "text": [
      "5\n",
      "10\n"
     ]
    },
    {
     "ename": "NameError",
     "evalue": "name 'y' is not defined",
     "output_type": "error",
     "traceback": [
      "\u001b[1;31m---------------------------------------------------------------------------\u001b[0m",
      "\u001b[1;31mNameError\u001b[0m                                 Traceback (most recent call last)",
      "Cell \u001b[1;32mIn[4], line 9\u001b[0m\n\u001b[0;32m      7\u001b[0m my_function()\n\u001b[0;32m      8\u001b[0m \u001b[38;5;28mprint\u001b[39m(x)\n\u001b[1;32m----> 9\u001b[0m \u001b[38;5;28mprint\u001b[39m(\u001b[43my\u001b[49m) \u001b[38;5;66;03m# this will cause an error because y is a local variable and is not accessible outside of the function\u001b[39;00m\n",
      "\u001b[1;31mNameError\u001b[0m: name 'y' is not defined"
     ]
    }
   ],
   "source": [
    "x = 10 # global variable\n",
    "\n",
    "def my_function():\n",
    "  y = 5 # local variable\n",
    "  print(y)\n",
    "\n",
    "my_function()\n",
    "print(x)\n",
    "print(y) # this will cause an error because y is a local variable and is not accessible outside of the function"
   ]
  },
  {
   "cell_type": "markdown",
   "metadata": {},
   "source": [
    "The global keyword"
   ]
  },
  {
   "cell_type": "markdown",
   "metadata": {},
   "source": [
    "Now, what if we want to modify a global variable from within a function? This is where the global keyword comes in.\n",
    "\n",
    "The global keyword is used to declare that a variable is a global variable and should be accessed from the global scope. Here's an example:"
   ]
  },
  {
   "cell_type": "code",
   "execution_count": 6,
   "metadata": {},
   "outputs": [
    {
     "name": "stdout",
     "output_type": "stream",
     "text": [
      "5\n",
      "5\n"
     ]
    }
   ],
   "source": [
    "x = 10 # global variable\n",
    "\n",
    "def my_function():\n",
    "  global x\n",
    "  global y\n",
    "  x = 5 # this will change the value of the global variable x\n",
    "  y = 5 # local variable\n",
    "\n",
    "my_function()\n",
    "print(x) # prints 5\n",
    "print(y) # this will cause an error because y is a local variable and is not accessible outside of the function"
   ]
  }
 ],
 "metadata": {
  "kernelspec": {
   "display_name": "Python 3",
   "language": "python",
   "name": "python3"
  },
  "language_info": {
   "codemirror_mode": {
    "name": "ipython",
    "version": 3
   },
   "file_extension": ".py",
   "mimetype": "text/x-python",
   "name": "python",
   "nbconvert_exporter": "python",
   "pygments_lexer": "ipython3",
   "version": "3.11.0"
  }
 },
 "nbformat": 4,
 "nbformat_minor": 2
}
