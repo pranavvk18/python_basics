{
 "cells": [
  {
   "cell_type": "markdown",
   "metadata": {},
   "source": [
    "Suppose we need to find a double of a number through function"
   ]
  },
  {
   "cell_type": "code",
   "execution_count": 1,
   "metadata": {},
   "outputs": [
    {
     "name": "stdout",
     "output_type": "stream",
     "text": [
      "18\n"
     ]
    }
   ],
   "source": [
    "# def fun(x):\n",
    "#     return x*2\n",
    "# print(fun(9))\n",
    "    "
   ]
  },
  {
   "cell_type": "markdown",
   "metadata": {},
   "source": [
    "This same function we can write using lamda function"
   ]
  },
  {
   "cell_type": "markdown",
   "metadata": {},
   "source": [
    "lambda (arguments): expression"
   ]
  },
  {
   "cell_type": "markdown",
   "metadata": {},
   "source": []
  },
  {
   "cell_type": "code",
   "execution_count": 3,
   "metadata": {},
   "outputs": [
    {
     "name": "stdout",
     "output_type": "stream",
     "text": [
      "14\n"
     ]
    }
   ],
   "source": [
    "fun= lambda x: x*2\n",
    "print(fun(7))\n"
   ]
  },
  {
   "cell_type": "code",
   "execution_count": 8,
   "metadata": {},
   "outputs": [
    {
     "name": "stdout",
     "output_type": "stream",
     "text": [
      "126\n"
     ]
    }
   ],
   "source": [
    "fun1 = lambda x, y: (x * y)*2\n",
    "print(fun1(7, 9))"
   ]
  },
  {
   "cell_type": "code",
   "execution_count": 9,
   "metadata": {},
   "outputs": [
    {
     "name": "stdout",
     "output_type": "stream",
     "text": [
      "This is the outer function with parameter: 5\n",
      "This is the inner function with parameter: 10\n"
     ]
    }
   ],
   "source": [
    "\n",
    "\n",
    "def outer_function(x):\n",
    "    print(\"This is the outer function with parameter:\", x)\n",
    "    \n",
    "    def inner_function(y):\n",
    "        print(\"This is the inner function with parameter:\", y)\n",
    "        \n",
    "    inner_function(x * 2)  # Call the inner function with a parameter\n",
    "\n",
    "# Call the outer function with a parameter\n",
    "outer_function(5)\n"
   ]
  },
  {
   "cell_type": "code",
   "execution_count": 10,
   "metadata": {},
   "outputs": [
    {
     "name": "stdout",
     "output_type": "stream",
     "text": [
      "This is the outer function with parameter: 5\n",
      "This is the inner function with parameter: 10\n"
     ]
    }
   ],
   "source": [
    "outer_function = lambda x: (lambda y: print(\"This is the inner function with parameter:\", y)\n",
    ")(x * 2)\n",
    "\n",
    "# Call the outer function with a parameter\n",
    "print(\"This is the outer function with parameter:\", 5)\n",
    "outer_function(5)\n"
   ]
  },
  {
   "cell_type": "code",
   "execution_count": null,
   "metadata": {},
   "outputs": [],
   "source": []
  }
 ],
 "metadata": {
  "kernelspec": {
   "display_name": "Python 3",
   "language": "python",
   "name": "python3"
  },
  "language_info": {
   "codemirror_mode": {
    "name": "ipython",
    "version": 3
   },
   "file_extension": ".py",
   "mimetype": "text/x-python",
   "name": "python",
   "nbconvert_exporter": "python",
   "pygments_lexer": "ipython3",
   "version": "3.11.0"
  }
 },
 "nbformat": 4,
 "nbformat_minor": 2
}
