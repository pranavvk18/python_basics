{
 "cells": [
  {
   "cell_type": "markdown",
   "metadata": {},
   "source": [
    "Exception Handling\n",
    "\n",
    "Exception handling is the process of responding to unwanted or unexpected events when a computer program runs. Exception handling deals with these events to avoid the program or system crashing, and without this process, exceptions would disrupt the normal operation of a program."
   ]
  },
  {
   "cell_type": "markdown",
   "metadata": {},
   "source": [
    "try:\n",
    "\n",
    "     #statements which could generate \n",
    "     #exception\n",
    "except:\n",
    "\n",
    "     #Soloution of generated exception"
   ]
  },
  {
   "cell_type": "code",
   "execution_count": 1,
   "metadata": {},
   "outputs": [
    {
     "name": "stdout",
     "output_type": "stream",
     "text": [
      "Number entered is not an integer.\n"
     ]
    }
   ],
   "source": [
    "try:\n",
    "    num = int(input(\"Enter an integer: \"))\n",
    "except ValueError:\n",
    "    print(\"Number entered is not an integer.\")"
   ]
  },
  {
   "cell_type": "code",
   "execution_count": 5,
   "metadata": {},
   "outputs": [
    {
     "name": "stdout",
     "output_type": "stream",
     "text": [
      "Multiplication table of p is: \n",
      "invalid literal for int() with base 10: 'p'\n",
      "Some imp lines of code\n",
      "End of program\n"
     ]
    }
   ],
   "source": [
    "a = input(\"Enter the number: \")\n",
    "print(f\"Multiplication table of {a} is: \")\n",
    "try:\n",
    "  for i in range(1, 11):\n",
    "    print(f\"{int(a)} X {i} = {int(a)*i}\")\n",
    "except Exception as e:\n",
    "  print(e)\n",
    "\n",
    "print(\"Some imp lines of code\")\n",
    "print(\"End of program\")"
   ]
  },
  {
   "cell_type": "code",
   "execution_count": 7,
   "metadata": {},
   "outputs": [
    {
     "name": "stdout",
     "output_type": "stream",
     "text": [
      "Index Error\n"
     ]
    }
   ],
   "source": [
    "try:\n",
    "    num = int(input(\"Enter an integer: \"))\n",
    "    a = [6, 3]\n",
    "    print(a[num])\n",
    "except ValueError:\n",
    "    print(\"Number entered is not an integer.\")\n",
    "    \n",
    "except IndexError:\n",
    "  print(\"Index Error\")"
   ]
  },
  {
   "cell_type": "markdown",
   "metadata": {},
   "source": [
    "Finally Keyword"
   ]
  },
  {
   "cell_type": "markdown",
   "metadata": {},
   "source": [
    "try:\n",
    "\n",
    "#statements which could generate\n",
    "#exception\n",
    "except:\n",
    "\n",
    "#solution of generated exception\n",
    "\n",
    "finally:\n",
    "\n",
    "#block of code which is going to \n",
    "#execute in any situation"
   ]
  },
  {
   "cell_type": "code",
   "execution_count": 13,
   "metadata": {},
   "outputs": [
    {
     "name": "stdout",
     "output_type": "stream",
     "text": [
      "Some error occurred\n",
      "I am always executed\n",
      "0\n"
     ]
    }
   ],
   "source": [
    "def func1():\n",
    "  try:\n",
    "    l = [1, 5, 6, 7]\n",
    "    i = int(input(\"Enter the index: \"))\n",
    "    print(l[i])\n",
    "    return 1\n",
    "  \n",
    "  except:\n",
    "    print(\"Some error occurred\")\n",
    "    return 0\n",
    "   \n",
    "\n",
    "  finally:\n",
    "    print(\"I am always executed\")\n",
    "  # print(\"I am always executed\")\n",
    "\n",
    "\n",
    "x = func1()\n",
    "print(x)\n"
   ]
  },
  {
   "cell_type": "code",
   "execution_count": null,
   "metadata": {},
   "outputs": [],
   "source": []
  }
 ],
 "metadata": {
  "kernelspec": {
   "display_name": "Python 3",
   "language": "python",
   "name": "python3"
  },
  "language_info": {
   "codemirror_mode": {
    "name": "ipython",
    "version": 3
   },
   "file_extension": ".py",
   "mimetype": "text/x-python",
   "name": "python",
   "nbconvert_exporter": "python",
   "pygments_lexer": "ipython3",
   "version": "3.11.0"
  }
 },
 "nbformat": 4,
 "nbformat_minor": 2
}
