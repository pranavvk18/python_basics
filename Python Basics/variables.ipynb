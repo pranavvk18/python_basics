{
 "cells": [
  {
   "cell_type": "code",
   "execution_count": 1,
   "metadata": {},
   "outputs": [
    {
     "name": "stdout",
     "output_type": "stream",
     "text": [
      "Hello World\n"
     ]
    }
   ],
   "source": [
    "print(\"Hello World\")"
   ]
  },
  {
   "cell_type": "code",
   "execution_count": 2,
   "metadata": {},
   "outputs": [
    {
     "name": "stdout",
     "output_type": "stream",
     "text": [
      "My name is Pranav Hi \n"
     ]
    }
   ],
   "source": [
    "print(\"My name is Pranav\",\"Hi \")"
   ]
  },
  {
   "cell_type": "code",
   "execution_count": 3,
   "metadata": {},
   "outputs": [
    {
     "name": "stdout",
     "output_type": "stream",
     "text": [
      "23\n",
      "46\n",
      "23+23\n"
     ]
    }
   ],
   "source": [
    "print(23)\n",
    "print(23+23)\n",
    "print(\"23+23\")\n"
   ]
  },
  {
   "cell_type": "markdown",
   "metadata": {},
   "source": [
    "Variable: A Variable is name given to a memory location in a program"
   ]
  },
  {
   "cell_type": "code",
   "execution_count": 4,
   "metadata": {},
   "outputs": [
    {
     "name": "stdout",
     "output_type": "stream",
     "text": [
      "Pk 23 23.09\n"
     ]
    }
   ],
   "source": [
    "name=\"Pk\"\n",
    "\n",
    "age=23\n",
    "price=23.09\n",
    "print(name,age,price)"
   ]
  },
  {
   "cell_type": "markdown",
   "metadata": {},
   "source": [
    "Keywords in python"
   ]
  },
  {
   "cell_type": "code",
   "execution_count": 5,
   "metadata": {},
   "outputs": [
    {
     "data": {
      "image/png": "[encoded data removed]",
      "text/plain": [
       "<Figure size 640x480 with 1 Axes>"
      ]
     },
     "metadata": {},
     "output_type": "display_data"
    }
   ],
   "source": [
    "import requests\n",
    "from PIL import Image\n",
    "from io import BytesIO\n",
    "import matplotlib.pyplot as plt\n",
    "\n",
    "# Replace 'YOUR_IMAGE_URL' with the actual URL of the image you want to display\n",
    "image_url = 'https://miro.medium.com/v2/resize:fit:798/1*r7dfFyNmTDN98UMyCMwvPQ.png'\n",
    "\n",
    "# Fetch the image from the URL\n",
    "response = requests.get(image_url)\n",
    "\n",
    "# Check if the request was successful (status code 200)\n",
    "if response.status_code == 200:\n",
    "    # Open the image using PIL\n",
    "    img = Image.open(BytesIO(response.content))\n",
    "\n",
    "    # Display the image using matplotlib\n",
    "    plt.imshow(img)\n",
    "    plt.axis('off')  # Hide axis labels and ticks\n",
    "    plt.show()\n",
    "else:\n",
    "    print(f\"Failed to fetch the image. Status code: {response.status_code}\")\n",
    "\n"
   ]
  },
  {
   "cell_type": "code",
   "execution_count": 6,
   "metadata": {},
   "outputs": [
    {
     "name": "stdout",
     "output_type": "stream",
     "text": [
      "300\n"
     ]
    }
   ],
   "source": [
    "a=100\n",
    "b=200\n",
    "sum=a+b\n",
    "print(sum)"
   ]
  },
  {
   "cell_type": "code",
   "execution_count": 7,
   "metadata": {},
   "outputs": [
    {
     "name": "stdout",
     "output_type": "stream",
     "text": [
      "5.7\n"
     ]
    }
   ],
   "source": [
    "a,b=2,3.7\n",
    "sum=a+b\n",
    "print(sum)"
   ]
  },
  {
   "cell_type": "markdown",
   "metadata": {},
   "source": [
    "floor(//) gives closest integer "
   ]
  },
  {
   "cell_type": "code",
   "execution_count": 16,
   "metadata": {},
   "outputs": [
    {
     "name": "stdout",
     "output_type": "stream",
     "text": [
      "5\n"
     ]
    }
   ],
   "source": [
    "a,b=41,8\n",
    "c=a//b\n",
    "print(c)"
   ]
  },
  {
   "cell_type": "markdown",
   "metadata": {},
   "source": [
    "Remainder is negative when denominator is negative"
   ]
  },
  {
   "cell_type": "code",
   "execution_count": 17,
   "metadata": {},
   "outputs": [
    {
     "name": "stdout",
     "output_type": "stream",
     "text": [
      "1\n"
     ]
    }
   ],
   "source": [
    "a,b=-5,2\n",
    "c=a%b\n",
    "print(c)"
   ]
  },
  {
   "cell_type": "code",
   "execution_count": 18,
   "metadata": {},
   "outputs": [
    {
     "name": "stdout",
     "output_type": "stream",
     "text": [
      "-1\n"
     ]
    }
   ],
   "source": [
    "a,b=-5,-2\n",
    "c=a%b\n",
    "print(c)"
   ]
  },
  {
   "cell_type": "markdown",
   "metadata": {},
   "source": [
    "Comments in python"
   ]
  },
  {
   "cell_type": "code",
   "execution_count": 23,
   "metadata": {},
   "outputs": [
    {
     "data": {
      "text/plain": [
       "'\\nThis is a multiline comment\\n'"
      ]
     },
     "execution_count": 23,
     "metadata": {},
     "output_type": "execute_result"
    }
   ],
   "source": [
    "# this is comment\n",
    "\"\"\"\n",
    "This is a multiline comment\n",
    "\"\"\""
   ]
  },
  {
   "cell_type": "markdown",
   "metadata": {},
   "source": [
    "Input in python"
   ]
  },
  {
   "cell_type": "markdown",
   "metadata": {},
   "source": [
    "string input"
   ]
  },
  {
   "cell_type": "code",
   "execution_count": 26,
   "metadata": {},
   "outputs": [
    {
     "name": "stdout",
     "output_type": "stream",
     "text": [
      "ram\n"
     ]
    }
   ],
   "source": [
    "name=input(\"name:\")\n",
    "print(name)"
   ]
  },
  {
   "cell_type": "markdown",
   "metadata": {},
   "source": [
    "int input"
   ]
  },
  {
   "cell_type": "code",
   "execution_count": 28,
   "metadata": {},
   "outputs": [
    {
     "name": "stdout",
     "output_type": "stream",
     "text": [
      "12\n"
     ]
    }
   ],
   "source": [
    "age=int(input(\"age:\"))\n",
    "print(age)"
   ]
  },
  {
   "cell_type": "markdown",
   "metadata": {},
   "source": [
    "float input"
   ]
  },
  {
   "cell_type": "code",
   "execution_count": 29,
   "metadata": {},
   "outputs": [
    {
     "name": "stdout",
     "output_type": "stream",
     "text": [
      "12.34\n"
     ]
    }
   ],
   "source": [
    "price=float(input(\"price\"))\n",
    "print(price)"
   ]
  },
  {
   "cell_type": "code",
   "execution_count": 32,
   "metadata": {},
   "outputs": [
    {
     "name": "stdout",
     "output_type": "stream",
     "text": [
      "My name is  ram i am  12 years old\n"
     ]
    }
   ],
   "source": [
    "print(\"My name is \",name,\"i am \",age,\"years old\")"
   ]
  },
  {
   "cell_type": "markdown",
   "metadata": {},
   "source": [
    "Logical opertor precedence is not>and>or"
   ]
  },
  {
   "cell_type": "markdown",
   "metadata": {},
   "source": [
    "Strings and Conditional Statements"
   ]
  },
  {
   "cell_type": "code",
   "execution_count": 38,
   "metadata": {},
   "outputs": [
    {
     "name": "stdout",
     "output_type": "stream",
     "text": [
      "This is s string\n",
      " *****this is a string2\n",
      " *****This is a string3\n",
      "\n"
     ]
    }
   ],
   "source": [
    "str1=\"This is s string\\n\"\n",
    "string2='This is a string2\\n'\n",
    "str3=\"\"\"This is a string3\\n\"\"\"\n",
    "print(str1,string2,str3)"
   ]
  },
  {
   "cell_type": "markdown",
   "metadata": {},
   "source": [
    "Escape sequence character"
   ]
  },
  {
   "cell_type": "markdown",
   "metadata": {},
   "source": [
    "Concatenation"
   ]
  },
  {
   "cell_type": "code",
   "execution_count": 39,
   "metadata": {},
   "outputs": [
    {
     "data": {
      "text/plain": [
       "'helloworld'"
      ]
     },
     "execution_count": 39,
     "metadata": {},
     "output_type": "execute_result"
    }
   ],
   "source": [
    "\"hello\"+\"world\""
   ]
  },
  {
   "cell_type": "markdown",
   "metadata": {},
   "source": [
    "Length of string"
   ]
  },
  {
   "cell_type": "code",
   "execution_count": 40,
   "metadata": {},
   "outputs": [
    {
     "data": {
      "text/plain": [
       "14"
      ]
     },
     "execution_count": 40,
     "metadata": {},
     "output_type": "execute_result"
    }
   ],
   "source": [
    "str=\"Hi I am Pranav\"\n",
    "len(str)"
   ]
  },
  {
   "cell_type": "markdown",
   "metadata": {},
   "source": [
    "Indexing"
   ]
  },
  {
   "cell_type": "code",
   "execution_count": 43,
   "metadata": {},
   "outputs": [
    {
     "data": {
      "text/plain": [
       "'P'"
      ]
     },
     "execution_count": 43,
     "metadata": {},
     "output_type": "execute_result"
    }
   ],
   "source": [
    "str=\"Pranav Kulkarni\"\n",
    "str[0]\n",
    "\n",
    "# str[0]=Q\n",
    "#the above code is not valid"
   ]
  },
  {
   "cell_type": "markdown",
   "metadata": {},
   "source": [
    "Slicing\n",
    "\n",
    "str[starting index:ending index]## ending_index will not be included"
   ]
  },
  {
   "cell_type": "code",
   "execution_count": 45,
   "metadata": {},
   "outputs": [
    {
     "name": "stdout",
     "output_type": "stream",
     "text": [
      "rv u\n"
     ]
    }
   ],
   "source": [
    "str=\"rv university\"\n",
    "print(str[0:4])"
   ]
  },
  {
   "cell_type": "code",
   "execution_count": 46,
   "metadata": {},
   "outputs": [
    {
     "name": "stdout",
     "output_type": "stream",
     "text": [
      "rv university\n"
     ]
    }
   ],
   "source": [
    "str=\"rv university\"\n",
    "print(str[0:])#if we do not mention the ending index i considers will string"
   ]
  },
  {
   "cell_type": "markdown",
   "metadata": {},
   "source": [
    "String Functions"
   ]
  },
  {
   "cell_type": "code",
   "execution_count": 47,
   "metadata": {},
   "outputs": [
    {
     "name": "stdout",
     "output_type": "stream",
     "text": [
      "True\n"
     ]
    }
   ],
   "source": [
    "str=\"I am an engineering student\"\n",
    "print(str.endswith(\"t\"))"
   ]
  },
  {
   "cell_type": "code",
   "execution_count": 49,
   "metadata": {},
   "outputs": [
    {
     "name": "stdout",
     "output_type": "stream",
     "text": [
      "My name is pranav\n"
     ]
    }
   ],
   "source": [
    "str2=\"my name is pranav\"\n",
    "print(str2.capitalize())#capitalizes the first word"
   ]
  },
  {
   "cell_type": "code",
   "execution_count": 51,
   "metadata": {},
   "outputs": [
    {
     "name": "stdout",
     "output_type": "stream",
     "text": [
      "my name is aranav\n"
     ]
    }
   ],
   "source": [
    "str2=\"my name is pranav\"\n",
    "print(str2.replace(\"p\",\"a\"))#replace p with a in string"
   ]
  },
  {
   "cell_type": "code",
   "execution_count": 53,
   "metadata": {},
   "outputs": [
    {
     "name": "stdout",
     "output_type": "stream",
     "text": [
      "11\n"
     ]
    }
   ],
   "source": [
    "print(str2.find(\"p\"))#retuens 1st index of the 1st occcurance"
   ]
  },
  {
   "cell_type": "code",
   "execution_count": 55,
   "metadata": {},
   "outputs": [
    {
     "name": "stdout",
     "output_type": "stream",
     "text": [
      "3\n"
     ]
    }
   ],
   "source": [
    "print(str2.count(\"a\"))"
   ]
  },
  {
   "cell_type": "markdown",
   "metadata": {},
   "source": [
    "If else"
   ]
  },
  {
   "cell_type": "code",
   "execution_count": 59,
   "metadata": {},
   "outputs": [
    {
     "name": "stdout",
     "output_type": "stream",
     "text": [
      "Both x and y are positive.\n"
     ]
    }
   ],
   "source": [
    "# Sample input values\n",
    "x = 10\n",
    "y = 5\n",
    "\n",
    "# Multiple logical conditions in an if-else block\n",
    "if x > 0 and y > 0:\n",
    "    print(\"Both x and y are positive.\")\n",
    "elif x < 0 and y > 0:\n",
    "    print(\"x is negative, but y is positive.\")\n",
    "elif x > 0 and y < 0:\n",
    "    print(\"x is positive, but y is negative.\")\n",
    "else:\n",
    "    print(\"Both x and y are non-positive.\")\n"
   ]
  },
  {
   "cell_type": "code",
   "execution_count": 64,
   "metadata": {},
   "outputs": [
    {
     "name": "stdout",
     "output_type": "stream",
     "text": [
      "The number is odd\n",
      "\n"
     ]
    }
   ],
   "source": [
    "num=int(input(\"Enter the number:\"))\n",
    "if(num==0):\n",
    "    print(\"The number is neither even or odd\\n\")\n",
    "elif(num%2==0):\n",
    "    print(\"The number is even\\n\")\n",
    "elif(num%2!=0):\n",
    "    print(\"The number is odd\\n\")\n",
    "else:\n",
    "    print(\"Enter the positive numbers only\")"
   ]
  },
  {
   "cell_type": "markdown",
   "metadata": {},
   "source": [
    "List and Tuples"
   ]
  },
  {
   "cell_type": "markdown",
   "metadata": {},
   "source": [
    "In list the elements can store the values of different data types"
   ]
  },
  {
   "cell_type": "markdown",
   "metadata": {},
   "source": [
    "Lists are mutable and strings are immutable"
   ]
  },
  {
   "cell_type": "code",
   "execution_count": 68,
   "metadata": {},
   "outputs": [
    {
     "name": "stdout",
     "output_type": "stream",
     "text": [
      "[92, 88, 90, 97, 95, 99]\n",
      "<class 'list'>\n",
      "92\n",
      "6\n"
     ]
    }
   ],
   "source": [
    "marks=[92,88,90,97,95,99]\n",
    "print(marks)\n",
    "print(type(marks))\n",
    "print(marks[0])\n",
    "print(len(marks))"
   ]
  },
  {
   "cell_type": "code",
   "execution_count": 73,
   "metadata": {},
   "outputs": [
    {
     "name": "stdout",
     "output_type": "stream",
     "text": [
      "['ram', '98', '1rvu22cse119']\n",
      "['sham', '98', '1rvu22cse119']\n"
     ]
    }
   ],
   "source": [
    "student=[\"ram\",\"98\",\"1rvu22cse119\"]\n",
    "print(student)\n",
    "student[0]=\"sham\"\n",
    "print(student)"
   ]
  },
  {
   "cell_type": "markdown",
   "metadata": {},
   "source": [
    "List Slicing"
   ]
  },
  {
   "cell_type": "code",
   "execution_count": 74,
   "metadata": {},
   "outputs": [
    {
     "name": "stdout",
     "output_type": "stream",
     "text": [
      "Basic list slicing: [3, 4, 5, 6]\n",
      "Subset with start omitted: [1, 2, 3, 4, 5]\n",
      "Subset with end omitted: [6, 7, 8, 9, 10]\n",
      "Subset with negative indices: [7, 8, 9]\n",
      "Subset with step: [2, 4, 6, 8]\n"
     ]
    }
   ],
   "source": [
    "# Sample list\n",
    "my_list = [1, 2, 3, 4, 5, 6, 7, 8, 9, 10]\n",
    "\n",
    "# Basic list slicing\n",
    "subset = my_list[2:6]  # Elements from index 2 to 5 (exclusive)\n",
    "print(\"Basic list slicing:\", subset)\n",
    "\n",
    "# Omitting start and end indices\n",
    "subset_start_omitted = my_list[:5]  # Elements from the beginning to index 4 (exclusive)\n",
    "subset_end_omitted = my_list[5:]    # Elements from index 5 to the end\n",
    "print(\"Subset with start omitted:\", subset_start_omitted)\n",
    "print(\"Subset with end omitted:\", subset_end_omitted)\n",
    "\n",
    "# Negative indices for counting from the end\n",
    "subset_negative_indices = my_list[-4:-1]  # Elements from index -4 to -2 (exclusive)\n",
    "print(\"Subset with negative indices:\", subset_negative_indices)\n",
    "\n",
    "# Slicing with a step\n",
    "subset_with_step = my_list[1:9:2]  # Elements from index 1 to 8, with a step of 2\n",
    "print(\"Subset with step:\", subset_with_step)\n"
   ]
  },
  {
   "cell_type": "markdown",
   "metadata": {},
   "source": [
    "List Methods"
   ]
  },
  {
   "cell_type": "code",
   "execution_count": 76,
   "metadata": {},
   "outputs": [
    {
     "name": "stdout",
     "output_type": "stream",
     "text": [
      "After append: [1, 2, 3, 4, 5, 6]\n",
      "After extend: [1, 2, 3, 4, 5, 6, 7, 8, 9]\n",
      "After insert: [1, 2, 10, 3, 4, 5, 6, 7, 8, 9]\n",
      "After remove: [1, 2, 10, 3, 5, 6, 7, 8, 9]\n",
      "Popped element: 3\n",
      "After pop: [1, 2, 10, 5, 6, 7, 8, 9]\n"
     ]
    },
    {
     "ename": "ValueError",
     "evalue": "3 is not in list",
     "output_type": "error",
     "traceback": [
      "\u001b[1;31m---------------------------------------------------------------------------\u001b[0m",
      "\u001b[1;31mValueError\u001b[0m                                Traceback (most recent call last)",
      "Cell \u001b[1;32mIn[76], line 26\u001b[0m\n\u001b[0;32m     23\u001b[0m \u001b[38;5;28mprint\u001b[39m(\u001b[38;5;124m\"\u001b[39m\u001b[38;5;124mAfter pop:\u001b[39m\u001b[38;5;124m\"\u001b[39m, my_list)\n\u001b[0;32m     25\u001b[0m \u001b[38;5;66;03m# Index method - returns the index of the first occurrence of a specified value\u001b[39;00m\n\u001b[1;32m---> 26\u001b[0m index_of_3 \u001b[38;5;241m=\u001b[39m \u001b[43mmy_list\u001b[49m\u001b[38;5;241;43m.\u001b[39;49m\u001b[43mindex\u001b[49m\u001b[43m(\u001b[49m\u001b[38;5;241;43m3\u001b[39;49m\u001b[43m)\u001b[49m\n\u001b[0;32m     27\u001b[0m \u001b[38;5;28mprint\u001b[39m(\u001b[38;5;124m\"\u001b[39m\u001b[38;5;124mIndex of 3:\u001b[39m\u001b[38;5;124m\"\u001b[39m, index_of_3)\n\u001b[0;32m     29\u001b[0m \u001b[38;5;66;03m# Count method - returns the number of occurrences of a specified value\u001b[39;00m\n",
      "\u001b[1;31mValueError\u001b[0m: 3 is not in list"
     ]
    }
   ],
   "source": [
    "# Creating a sample list\n",
    "my_list = [1, 2, 3, 4, 5]\n",
    "\n",
    "# Append method - adds an element to the end of the list\n",
    "my_list.append(6)\n",
    "print(\"After append:\", my_list)\n",
    "\n",
    "# Extend method - extends the list by appending elements from another iterable\n",
    "my_list.extend([7, 8, 9])\n",
    "print(\"After extend:\", my_list)\n",
    "\n",
    "# Insert method - inserts an element at a specific index\n",
    "my_list.insert(2, 10)\n",
    "print(\"After insert:\", my_list)\n",
    "\n",
    "# Remove method - removes the first occurrence of a specified value\n",
    "my_list.remove(4)\n",
    "print(\"After remove:\", my_list)\n",
    "\n",
    "# Pop method - removes and returns the element at the specified index (default is the last element)\n",
    "popped_element = my_list.pop(3)\n",
    "print(\"Popped element:\", popped_element)\n",
    "print(\"After pop:\", my_list)\n",
    "\n",
    "# Index method - returns the index of the first occurrence of a specified value\n",
    "index_of_3 = my_list.index(3)\n",
    "print(\"Index of 3:\", index_of_3)\n",
    "\n",
    "# Count method - returns the number of occurrences of a specified value\n",
    "count_of_2 = my_list.count(2)\n",
    "print(\"Count of 2:\", count_of_2)\n",
    "\n",
    "# Reverse method - reverses the elements of the list in place\n",
    "my_list.reverse()\n",
    "print(\"After reverse:\", my_list)\n",
    "\n",
    "# Sort method - sorts the elements of the list in ascending order\n",
    "my_list.sort()\n",
    "print(\"After sort:\", my_list)\n",
    "\n",
    "# Clear method - removes all elements from the list\n",
    "my_list.clear()\n",
    "print(\"After clear:\", my_list)\n"
   ]
  },
  {
   "cell_type": "code",
   "execution_count": null,
   "metadata": {},
   "outputs": [],
   "source": []
  }
 ],
 "metadata": {
  "kernelspec": {
   "display_name": "base",
   "language": "python",
   "name": "python3"
  },
  "language_info": {
   "codemirror_mode": {
    "name": "ipython",
    "version": 3
   },
   "file_extension": ".py",
   "mimetype": "text/x-python",
   "name": "python",
   "nbconvert_exporter": "python",
   "pygments_lexer": "ipython3",
   "version": "2022.10.undefined"
  }
 },
 "nbformat": 4,
 "nbformat_minor": 2
}
