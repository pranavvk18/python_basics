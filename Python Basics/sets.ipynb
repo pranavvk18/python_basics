{
 "cells": [
  {
   "cell_type": "markdown",
   "metadata": {},
   "source": [
    "Sets:\n",
    "\n",
    "Useage of sets :\n",
    "\n",
    "For example you need to collect names starting from letter 'A' then sets helps in making sure that same name doesn't repeat multiple times\n",
    "\n"
   ]
  },
  {
   "cell_type": "code",
   "execution_count": 2,
   "metadata": {},
   "outputs": [
    {
     "name": "stdout",
     "output_type": "stream",
     "text": [
      "{2, 4, 5, 6}\n"
     ]
    }
   ],
   "source": [
    "s={2,4,5,5,6}\n",
    "print(s)"
   ]
  },
  {
   "cell_type": "markdown",
   "metadata": {},
   "source": [
    "Here we see that the items of set occur in random order and hence they cannot be accessed using index numbers. Also sets do not allow duplicate values."
   ]
  },
  {
   "cell_type": "code",
   "execution_count": 3,
   "metadata": {},
   "outputs": [
    {
     "name": "stdout",
     "output_type": "stream",
     "text": [
      "{False, 'Carla', 19, 5.9}\n"
     ]
    }
   ],
   "source": [
    "info = {\"Carla\", 19, False, 5.9, 19}\n",
    "print(info)"
   ]
  },
  {
   "cell_type": "markdown",
   "metadata": {},
   "source": [
    "Quick Quiz: Try to create an empty set. Check using the type() function whether the type of your variable is a set"
   ]
  },
  {
   "cell_type": "code",
   "execution_count": 4,
   "metadata": {},
   "outputs": [
    {
     "name": "stdout",
     "output_type": "stream",
     "text": [
      "<class 'dict'>\n"
     ]
    }
   ],
   "source": [
    "a={}\n",
    "print(type(a))"
   ]
  },
  {
   "cell_type": "code",
   "execution_count": 5,
   "metadata": {},
   "outputs": [
    {
     "name": "stdout",
     "output_type": "stream",
     "text": [
      "<class 'set'>\n"
     ]
    }
   ],
   "source": [
    "# so to create an empty set\n",
    "a=set()\n",
    "print(type(a))"
   ]
  },
  {
   "cell_type": "markdown",
   "metadata": {},
   "source": [
    "Joining Sets"
   ]
  },
  {
   "cell_type": "markdown",
   "metadata": {},
   "source": [
    "union() and update():\n",
    "\n",
    "The union() and update() methods prints all items that are present in the two sets. The union() method returns a new set whereas update() method adds item into the existing set from another set.\n"
   ]
  },
  {
   "cell_type": "code",
   "execution_count": 8,
   "metadata": {},
   "outputs": [
    {
     "name": "stdout",
     "output_type": "stream",
     "text": [
      "{1, 2, 3, 4, 5, 6, 7}\n",
      "{1, 2, 3, 4, 5}\n",
      "{3, 5, 6, 7}\n"
     ]
    }
   ],
   "source": [
    "b={1,2,3,4,5}\n",
    "c={3,6,7,5}\n",
    "print(b.union(c))\n",
    "#here b and c are not changed\n",
    "print(b)\n",
    "print(c)\n",
    "\n",
    "\n"
   ]
  },
  {
   "cell_type": "code",
   "execution_count": 9,
   "metadata": {},
   "outputs": [
    {
     "name": "stdout",
     "output_type": "stream",
     "text": [
      "{1, 2, 3, 4, 5, 6, 7} {3, 5, 6, 7}\n"
     ]
    }
   ],
   "source": [
    "#if we want to update \n",
    "#it will add the different elements from c to b\n",
    "b.update(c)\n",
    "print(b,c)"
   ]
  },
  {
   "cell_type": "code",
   "execution_count": 10,
   "metadata": {},
   "outputs": [
    {
     "name": "stdout",
     "output_type": "stream",
     "text": [
      "{'Berlin', 'Seoul', 'Kabul', 'Delhi', 'Madrid', 'Tokyo'}\n"
     ]
    }
   ],
   "source": [
    "cities = {\"Tokyo\", \"Madrid\", \"Berlin\", \"Delhi\"}\n",
    "cities2 = {\"Tokyo\", \"Seoul\", \"Kabul\", \"Madrid\"}\n",
    "cities3 = cities.union(cities2)\n",
    "print(cities3)"
   ]
  },
  {
   "cell_type": "code",
   "execution_count": 11,
   "metadata": {},
   "outputs": [
    {
     "name": "stdout",
     "output_type": "stream",
     "text": [
      "{'Berlin', 'Seoul', 'Kabul', 'Delhi', 'Madrid', 'Tokyo'}\n"
     ]
    }
   ],
   "source": [
    "cities = {\"Tokyo\", \"Madrid\", \"Berlin\", \"Delhi\"}\n",
    "cities2 = {\"Tokyo\", \"Seoul\", \"Kabul\", \"Madrid\"}\n",
    "cities.update(cities2)\n",
    "print(cities)"
   ]
  },
  {
   "cell_type": "markdown",
   "metadata": {},
   "source": [
    " intersection and intersection_update():\n",
    "\n",
    "The intersection() and intersection_update() methods prints only items that are similar to both the sets. The intersection() method returns a new set whereas intersection_update() method updates into the existing set from another set.\n"
   ]
  },
  {
   "cell_type": "code",
   "execution_count": 12,
   "metadata": {},
   "outputs": [
    {
     "name": "stdout",
     "output_type": "stream",
     "text": [
      "{'Madrid', 'Tokyo'}\n"
     ]
    }
   ],
   "source": [
    "cities = {\"Tokyo\", \"Madrid\", \"Berlin\", \"Delhi\"}\n",
    "cities2 = {\"Tokyo\", \"Seoul\", \"Kabul\", \"Madrid\"}\n",
    "cities3 = cities.intersection(cities2)\n",
    "print(cities3)"
   ]
  },
  {
   "cell_type": "code",
   "execution_count": 13,
   "metadata": {},
   "outputs": [
    {
     "name": "stdout",
     "output_type": "stream",
     "text": [
      "{'Madrid', 'Tokyo'}\n"
     ]
    }
   ],
   "source": [
    "cities = {\"Tokyo\", \"Madrid\", \"Berlin\", \"Delhi\"}\n",
    "cities2 = {\"Tokyo\", \"Seoul\", \"Kabul\", \"Madrid\"}\n",
    "cities.intersection_update(cities2)\n",
    "print(cities)"
   ]
  },
  {
   "cell_type": "markdown",
   "metadata": {},
   "source": [
    "symmetric_difference and symmetric_difference_update():\n",
    "\n",
    "The symmetric_difference() and symmetric_difference_update() methods prints only items that are not similar to both the sets. The symmetric_difference() method returns a new set whereas symmetric_difference_update() method updates into the existing set from another set.\n",
    "\n"
   ]
  },
  {
   "cell_type": "markdown",
   "metadata": {},
   "source": [
    "prints all the values which are not common "
   ]
  },
  {
   "cell_type": "code",
   "execution_count": 14,
   "metadata": {},
   "outputs": [
    {
     "name": "stdout",
     "output_type": "stream",
     "text": [
      "{'Berlin', 'Seoul', 'Kabul', 'Delhi'}\n"
     ]
    }
   ],
   "source": [
    "cities = {\"Tokyo\", \"Madrid\", \"Berlin\", \"Delhi\"}\n",
    "cities2 = {\"Tokyo\", \"Seoul\", \"Kabul\", \"Madrid\"}\n",
    "cities3 = cities.symmetric_difference(cities2)\n",
    "print(cities3)"
   ]
  },
  {
   "cell_type": "code",
   "execution_count": 15,
   "metadata": {},
   "outputs": [
    {
     "name": "stdout",
     "output_type": "stream",
     "text": [
      "{'Berlin', 'Seoul', 'Kabul', 'Delhi'}\n"
     ]
    }
   ],
   "source": [
    "cities = {\"Tokyo\", \"Madrid\", \"Berlin\", \"Delhi\"}\n",
    "cities2 = {\"Tokyo\", \"Seoul\", \"Kabul\", \"Madrid\"}\n",
    "cities.symmetric_difference_update(cities2)\n",
    "print(cities)"
   ]
  },
  {
   "cell_type": "markdown",
   "metadata": {},
   "source": [
    "difference() and difference_update():\n",
    "\n",
    "The difference() and difference_update() methods prints only items that are only present in the original set and not in both the sets. The difference() method returns a new set whereas difference_update() method updates into the existing set from another set."
   ]
  },
  {
   "cell_type": "code",
   "execution_count": 16,
   "metadata": {},
   "outputs": [
    {
     "name": "stdout",
     "output_type": "stream",
     "text": [
      "{'Madrid', 'Tokyo', 'Berlin'}\n"
     ]
    }
   ],
   "source": [
    "cities = {\"Tokyo\", \"Madrid\", \"Berlin\", \"Delhi\"}\n",
    "cities2 = {\"Seoul\", \"Kabul\", \"Delhi\"}\n",
    "cities3 = cities.difference(cities2)\n",
    "print(cities3)"
   ]
  },
  {
   "cell_type": "code",
   "execution_count": 17,
   "metadata": {},
   "outputs": [
    {
     "name": "stdout",
     "output_type": "stream",
     "text": [
      "{'Madrid', 'Tokyo', 'Berlin'}\n"
     ]
    }
   ],
   "source": [
    "cities = {\"Tokyo\", \"Madrid\", \"Berlin\", \"Delhi\"}\n",
    "cities2 = {\"Seoul\", \"Kabul\", \"Delhi\"}\n",
    "print(cities.difference(cities2))"
   ]
  },
  {
   "cell_type": "markdown",
   "metadata": {},
   "source": [
    "Sets Methods"
   ]
  },
  {
   "cell_type": "markdown",
   "metadata": {},
   "source": [
    "isdisjoint():\n",
    "\n",
    "The isdisjoint() method checks if items of given set are present in another set. This method returns False if items are present, else it returns True."
   ]
  },
  {
   "cell_type": "code",
   "execution_count": 18,
   "metadata": {},
   "outputs": [
    {
     "name": "stdout",
     "output_type": "stream",
     "text": [
      "False\n"
     ]
    }
   ],
   "source": [
    "cities = {\"Tokyo\", \"Madrid\", \"Berlin\", \"Delhi\"}\n",
    "cities2 = {\"Tokyo\", \"Seoul\", \"Kabul\", \"Madrid\"}\n",
    "print(cities.isdisjoint(cities2))"
   ]
  },
  {
   "cell_type": "markdown",
   "metadata": {},
   "source": [
    "issuperset():\n",
    "\n",
    "The issuperset() method checks if all the items of a particular set are present in the original set. It returns True if all the items are present, else it returns False."
   ]
  },
  {
   "cell_type": "code",
   "execution_count": 19,
   "metadata": {},
   "outputs": [
    {
     "name": "stdout",
     "output_type": "stream",
     "text": [
      "False\n",
      "False\n"
     ]
    }
   ],
   "source": [
    "cities = {\"Tokyo\", \"Madrid\", \"Berlin\", \"Delhi\"}\n",
    "cities2 = {\"Seoul\", \"Kabul\"}\n",
    "print(cities.issuperset(cities2))\n",
    "cities3 = {\"Seoul\", \"Madrid\",\"Kabul\"}\n",
    "print(cities.issuperset(cities3))"
   ]
  },
  {
   "cell_type": "markdown",
   "metadata": {},
   "source": [
    "issubset():\n",
    "\n",
    "The issubset() method checks if all the items of the original set are present in the particular set. It returns True if all the items are present, else it returns False."
   ]
  },
  {
   "cell_type": "code",
   "execution_count": 20,
   "metadata": {},
   "outputs": [
    {
     "name": "stdout",
     "output_type": "stream",
     "text": [
      "True\n"
     ]
    }
   ],
   "source": [
    "cities = {\"Tokyo\", \"Madrid\", \"Berlin\", \"Delhi\"}\n",
    "cities2 = {\"Delhi\", \"Madrid\"}\n",
    "print(cities2.issubset(cities))"
   ]
  },
  {
   "cell_type": "markdown",
   "metadata": {},
   "source": [
    "add():\n",
    "\n",
    "If you want to add a single item to the set use the add() method.\n"
   ]
  },
  {
   "cell_type": "code",
   "execution_count": 21,
   "metadata": {},
   "outputs": [
    {
     "name": "stdout",
     "output_type": "stream",
     "text": [
      "{'Delhi', 'Berlin', 'Helsinki', 'Madrid', 'Tokyo'}\n"
     ]
    }
   ],
   "source": [
    "cities = {\"Tokyo\", \"Madrid\", \"Berlin\", \"Delhi\"}\n",
    "cities.add(\"Helsinki\")\n",
    "print(cities)"
   ]
  },
  {
   "cell_type": "markdown",
   "metadata": {},
   "source": [
    "remove()/discard():\n",
    "\n",
    "We can use remove() and discard() methods to remove items form list."
   ]
  },
  {
   "cell_type": "code",
   "execution_count": 22,
   "metadata": {},
   "outputs": [
    {
     "name": "stdout",
     "output_type": "stream",
     "text": [
      "{'Berlin', 'Delhi', 'Madrid'}\n"
     ]
    }
   ],
   "source": [
    "cities = {\"Tokyo\", \"Madrid\", \"Berlin\", \"Delhi\"}\n",
    "cities.remove(\"Tokyo\")\n",
    "print(cities)"
   ]
  },
  {
   "cell_type": "markdown",
   "metadata": {},
   "source": [
    "The main difference between remove and discard is that, if we try to delete an item which is not present in set, then remove() raises an error, whereas discard() does not raise any error."
   ]
  },
  {
   "cell_type": "code",
   "execution_count": 23,
   "metadata": {},
   "outputs": [
    {
     "ename": "KeyError",
     "evalue": "'Seoul'",
     "output_type": "error",
     "traceback": [
      "\u001b[1;31m---------------------------------------------------------------------------\u001b[0m",
      "\u001b[1;31mKeyError\u001b[0m                                  Traceback (most recent call last)",
      "Cell \u001b[1;32mIn[23], line 2\u001b[0m\n\u001b[0;32m      1\u001b[0m cities \u001b[38;5;241m=\u001b[39m {\u001b[38;5;124m\"\u001b[39m\u001b[38;5;124mTokyo\u001b[39m\u001b[38;5;124m\"\u001b[39m, \u001b[38;5;124m\"\u001b[39m\u001b[38;5;124mMadrid\u001b[39m\u001b[38;5;124m\"\u001b[39m, \u001b[38;5;124m\"\u001b[39m\u001b[38;5;124mBerlin\u001b[39m\u001b[38;5;124m\"\u001b[39m, \u001b[38;5;124m\"\u001b[39m\u001b[38;5;124mDelhi\u001b[39m\u001b[38;5;124m\"\u001b[39m}\n\u001b[1;32m----> 2\u001b[0m \u001b[43mcities\u001b[49m\u001b[38;5;241;43m.\u001b[39;49m\u001b[43mremove\u001b[49m\u001b[43m(\u001b[49m\u001b[38;5;124;43m\"\u001b[39;49m\u001b[38;5;124;43mSeoul\u001b[39;49m\u001b[38;5;124;43m\"\u001b[39;49m\u001b[43m)\u001b[49m\n\u001b[0;32m      3\u001b[0m \u001b[38;5;28mprint\u001b[39m(cities)\n",
      "\u001b[1;31mKeyError\u001b[0m: 'Seoul'"
     ]
    }
   ],
   "source": [
    "cities = {\"Tokyo\", \"Madrid\", \"Berlin\", \"Delhi\"}\n",
    "cities.remove(\"Seoul\")\n",
    "print(cities)"
   ]
  },
  {
   "cell_type": "markdown",
   "metadata": {},
   "source": [
    "pop():\n",
    "\n",
    "This method removes the last item of the set but the catch is that we don’t know which item gets popped as sets are unordered. However, you can access the popped item if you assign the pop() method to a variable."
   ]
  },
  {
   "cell_type": "code",
   "execution_count": 24,
   "metadata": {},
   "outputs": [
    {
     "name": "stdout",
     "output_type": "stream",
     "text": [
      "{'Delhi', 'Madrid', 'Tokyo'}\n",
      "Berlin\n"
     ]
    }
   ],
   "source": [
    "cities = {\"Tokyo\", \"Madrid\", \"Berlin\", \"Delhi\"}\n",
    "item = cities.pop()\n",
    "print(cities)\n",
    "print(item)"
   ]
  },
  {
   "cell_type": "markdown",
   "metadata": {},
   "source": [
    "del:\n",
    "\n",
    "del is not a method, rather it is a keyword which deletes the set entirely."
   ]
  },
  {
   "cell_type": "code",
   "execution_count": 25,
   "metadata": {},
   "outputs": [
    {
     "ename": "NameError",
     "evalue": "name 'cities' is not defined",
     "output_type": "error",
     "traceback": [
      "\u001b[1;31m---------------------------------------------------------------------------\u001b[0m",
      "\u001b[1;31mNameError\u001b[0m                                 Traceback (most recent call last)",
      "Cell \u001b[1;32mIn[25], line 3\u001b[0m\n\u001b[0;32m      1\u001b[0m cities \u001b[38;5;241m=\u001b[39m {\u001b[38;5;124m\"\u001b[39m\u001b[38;5;124mTokyo\u001b[39m\u001b[38;5;124m\"\u001b[39m, \u001b[38;5;124m\"\u001b[39m\u001b[38;5;124mMadrid\u001b[39m\u001b[38;5;124m\"\u001b[39m, \u001b[38;5;124m\"\u001b[39m\u001b[38;5;124mBerlin\u001b[39m\u001b[38;5;124m\"\u001b[39m, \u001b[38;5;124m\"\u001b[39m\u001b[38;5;124mDelhi\u001b[39m\u001b[38;5;124m\"\u001b[39m}\n\u001b[0;32m      2\u001b[0m \u001b[38;5;28;01mdel\u001b[39;00m cities\n\u001b[1;32m----> 3\u001b[0m \u001b[38;5;28mprint\u001b[39m(\u001b[43mcities\u001b[49m)\n",
      "\u001b[1;31mNameError\u001b[0m: name 'cities' is not defined"
     ]
    }
   ],
   "source": [
    "cities = {\"Tokyo\", \"Madrid\", \"Berlin\", \"Delhi\"}\n",
    "del cities\n",
    "print(cities)"
   ]
  },
  {
   "cell_type": "markdown",
   "metadata": {},
   "source": [
    "clear():\n",
    "\n",
    "This method clears all items in the set and prints an empty set."
   ]
  },
  {
   "cell_type": "code",
   "execution_count": 26,
   "metadata": {},
   "outputs": [
    {
     "name": "stdout",
     "output_type": "stream",
     "text": [
      "set()\n"
     ]
    }
   ],
   "source": [
    "cities = {\"Tokyo\", \"Madrid\", \"Berlin\", \"Delhi\"}\n",
    "cities.clear()\n",
    "print(cities)"
   ]
  },
  {
   "cell_type": "markdown",
   "metadata": {},
   "source": [
    "Check if item exists:\n",
    "\n",
    "You can also check if an item exists in the set or not."
   ]
  },
  {
   "cell_type": "code",
   "execution_count": 27,
   "metadata": {},
   "outputs": [
    {
     "name": "stdout",
     "output_type": "stream",
     "text": [
      "Carla is present.\n"
     ]
    }
   ],
   "source": [
    "info = {\"Carla\", 19, False, 5.9}\n",
    "if \"Carla\" in info:\n",
    "    print(\"Carla is present.\")\n",
    "else:\n",
    "    print(\"Carla is absent.\")"
   ]
  },
  {
   "cell_type": "code",
   "execution_count": null,
   "metadata": {},
   "outputs": [],
   "source": []
  }
 ],
 "metadata": {
  "kernelspec": {
   "display_name": "Python 3",
   "language": "python",
   "name": "python3"
  },
  "language_info": {
   "codemirror_mode": {
    "name": "ipython",
    "version": 3
   },
   "file_extension": ".py",
   "mimetype": "text/x-python",
   "name": "python",
   "nbconvert_exporter": "python",
   "pygments_lexer": "ipython3",
   "version": "3.11.0"
  }
 },
 "nbformat": 4,
 "nbformat_minor": 2
}
