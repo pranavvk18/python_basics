{
 "cells": [
  {
   "cell_type": "markdown",
   "metadata": {},
   "source": [
    "As you have learned before, the else clause is used along with the if statement.\n",
    "\n",
    "Python allows the else keyword to be used with the for and while loops too. The else block appears after the body of the loop. The statements in the else block will be executed after all iterations are completed. The program exits the loop only after the else block is executed."
   ]
  },
  {
   "cell_type": "markdown",
   "metadata": {},
   "source": [
    "  Syntax:\n",
    "\n",
    "  for counter in sequence:\n",
    "    #Statements inside for loop block\n",
    "else:\n",
    "    #Statements inside else block"
   ]
  },
  {
   "cell_type": "code",
   "execution_count": 1,
   "metadata": {},
   "outputs": [
    {
     "name": "stdout",
     "output_type": "stream",
     "text": [
      "iteration no 1 in for loop\n",
      "iteration no 2 in for loop\n",
      "iteration no 3 in for loop\n",
      "iteration no 4 in for loop\n",
      "iteration no 5 in for loop\n",
      "else block in loop\n",
      "Out of loop\n"
     ]
    }
   ],
   "source": [
    "for x in range(5):\n",
    "    print (\"iteration no {} in for loop\".format(x+1))\n",
    "else:\n",
    "    print (\"else block in loop\")\n",
    "print (\"Out of loop\")"
   ]
  },
  {
   "cell_type": "markdown",
   "metadata": {},
   "source": [
    "Note:\n",
    "\n",
    "else is only executed  when for/while loop if fully completed ,if braek statement is used then else will not be executed"
   ]
  },
  {
   "cell_type": "code",
   "execution_count": 3,
   "metadata": {},
   "outputs": [],
   "source": [
    "for i in range(0,4):\n",
    "    if(i==2):\n",
    "        break\n",
    "else:\n",
    "    print(\"Hello world\")\n",
    "\n"
   ]
  },
  {
   "cell_type": "code",
   "execution_count": null,
   "metadata": {},
   "outputs": [],
   "source": []
  }
 ],
 "metadata": {
  "kernelspec": {
   "display_name": "Python 3",
   "language": "python",
   "name": "python3"
  },
  "language_info": {
   "codemirror_mode": {
    "name": "ipython",
    "version": 3
   },
   "file_extension": ".py",
   "mimetype": "text/x-python",
   "name": "python",
   "nbconvert_exporter": "python",
   "pygments_lexer": "ipython3",
   "version": "3.11.0"
  }
 },
 "nbformat": 4,
 "nbformat_minor": 2
}
