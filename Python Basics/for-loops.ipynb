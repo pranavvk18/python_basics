{
 "cells": [
  {
   "cell_type": "code",
   "execution_count": 4,
   "metadata": {},
   "outputs": [
    {
     "name": "stdout",
     "output_type": "stream",
     "text": [
      "P\n",
      "This string contains P\n",
      "r\n",
      "a\n",
      "n\n",
      "a\n",
      "v\n",
      " \n",
      "P\n",
      "This string contains P\n",
      " \n",
      "K\n",
      "u\n",
      "l\n",
      "k\n",
      "a\n",
      "r\n",
      "n\n",
      "i\n"
     ]
    }
   ],
   "source": [
    "name=\"Pranav P Kulkarni\"\n",
    "for i in name:\n",
    "    print(i)\n",
    "    if(i=='P'):\n",
    "        print(\"This string contains P\")"
   ]
  },
  {
   "cell_type": "code",
   "execution_count": 5,
   "metadata": {},
   "outputs": [
    {
     "name": "stdout",
     "output_type": "stream",
     "text": [
      "Red\n",
      "Green\n",
      "Blue\n",
      "Yellow\n"
     ]
    }
   ],
   "source": [
    "colors = [\"Red\", \"Green\", \"Blue\", \"Yellow\"]\n",
    "for x in colors:\n",
    "    print(x)"
   ]
  },
  {
   "cell_type": "code",
   "execution_count": 7,
   "metadata": {},
   "outputs": [
    {
     "name": "stdout",
     "output_type": "stream",
     "text": [
      "Red\n",
      "R\n",
      "e\n",
      "d\n",
      "Green\n",
      "G\n",
      "r\n",
      "e\n",
      "e\n",
      "n\n",
      "Blue\n",
      "B\n",
      "l\n",
      "u\n",
      "e\n",
      "Yellow\n",
      "Y\n",
      "e\n",
      "l\n",
      "l\n",
      "o\n",
      "w\n"
     ]
    }
   ],
   "source": [
    "colors = [\"Red\", \"Green\", \"Blue\", \"Yellow\"]\n",
    "for x in colors:\n",
    "    print(x)\n",
    "    for y in x:\n",
    "        print(y)"
   ]
  },
  {
   "cell_type": "markdown",
   "metadata": {},
   "source": [
    "range():"
   ]
  },
  {
   "cell_type": "code",
   "execution_count": 10,
   "metadata": {},
   "outputs": [
    {
     "name": "stdout",
     "output_type": "stream",
     "text": [
      "0\n",
      "1\n",
      "2\n",
      "3\n",
      "4\n",
      "5\n",
      "6\n",
      "7\n",
      "8\n",
      "9\n"
     ]
    }
   ],
   "source": [
    "for k in range(10):\n",
    "    print(k)"
   ]
  },
  {
   "cell_type": "code",
   "execution_count": 11,
   "metadata": {},
   "outputs": [
    {
     "name": "stdout",
     "output_type": "stream",
     "text": [
      "1\n",
      "2\n",
      "3\n",
      "4\n",
      "5\n",
      "6\n",
      "7\n",
      "8\n",
      "9\n"
     ]
    }
   ],
   "source": [
    "for k in range(1,10):\n",
    "    print(k)"
   ]
  },
  {
   "cell_type": "code",
   "execution_count": 13,
   "metadata": {},
   "outputs": [
    {
     "name": "stdout",
     "output_type": "stream",
     "text": [
      "1\n",
      "4\n",
      "7\n",
      "10\n"
     ]
    }
   ],
   "source": [
    "#this is nothing but for(i=1;i<12;i+3)\n",
    "for k in range(1,12,3):\n",
    "    print(k)"
   ]
  },
  {
   "cell_type": "markdown",
   "metadata": {},
   "source": [
    "While-loop"
   ]
  },
  {
   "cell_type": "code",
   "execution_count": 16,
   "metadata": {},
   "outputs": [
    {
     "name": "stdout",
     "output_type": "stream",
     "text": [
      "0\n",
      "1\n",
      "2\n"
     ]
    }
   ],
   "source": [
    "for i in range(3):\n",
    "    print(i)"
   ]
  },
  {
   "cell_type": "code",
   "execution_count": 14,
   "metadata": {},
   "outputs": [
    {
     "name": "stdout",
     "output_type": "stream",
     "text": [
      "0\n",
      "1\n",
      "2\n"
     ]
    }
   ],
   "source": [
    "i=0\n",
    "while(i<3):\n",
    "    print(i)\n",
    "    i=i+1"
   ]
  },
  {
   "cell_type": "code",
   "execution_count": 17,
   "metadata": {},
   "outputs": [
    {
     "name": "stdout",
     "output_type": "stream",
     "text": [
      "4\n",
      "5\n",
      "15\n",
      "56\n"
     ]
    }
   ],
   "source": [
    "while(i<=15):\n",
    "    i=int(input(\"Enter the number:\"))\n",
    "    print(i)\n"
   ]
  },
  {
   "cell_type": "markdown",
   "metadata": {},
   "source": [
    "Else with While Loop"
   ]
  },
  {
   "cell_type": "code",
   "execution_count": 19,
   "metadata": {},
   "outputs": [
    {
     "name": "stdout",
     "output_type": "stream",
     "text": [
      "5\n",
      "4\n",
      "3\n",
      "2\n",
      "1\n",
      "counter is 0\n"
     ]
    }
   ],
   "source": [
    "x = 5\n",
    "while (x > 0):\n",
    "    print(x)\n",
    "    x = x - 1\n",
    "else:\n",
    "    print('counter is 0')"
   ]
  },
  {
   "cell_type": "markdown",
   "metadata": {},
   "source": [
    "How to emulate do while loop in python?"
   ]
  },
  {
   "cell_type": "code",
   "execution_count": 20,
   "metadata": {},
   "outputs": [
    {
     "name": "stdout",
     "output_type": "stream",
     "text": [
      "9\n",
      "-1\n"
     ]
    }
   ],
   "source": [
    "while True:\n",
    "  number = int(input(\"Enter a positive number: \"))\n",
    "  print(number)\n",
    "  if not number > 0:\n",
    "    break"
   ]
  },
  {
   "cell_type": "code",
   "execution_count": 43,
   "metadata": {},
   "outputs": [
    {
     "name": "stdout",
     "output_type": "stream",
     "text": [
      "Inside the loop, i = 1\n",
      "Inside the loop, i = 2\n",
      "Inside the loop, i = 3\n",
      "Inside the loop, i = 4\n",
      "Inside the loop, i = 5\n",
      "Condition met. Exiting the loop.\n"
     ]
    }
   ],
   "source": [
    "i = 0\n",
    "\n",
    "while True:\n",
    "    i = i + 1\n",
    "    \n",
    "    # Your code within the loop\n",
    "    print(f\"Inside the loop, i = {i}\")\n",
    "\n",
    "    if i % 5 == 0:\n",
    "        print(\"Condition met. Exiting the loop.\")\n",
    "        break  # Exit the loop when the condition is met\n",
    "\n",
    "\n"
   ]
  },
  {
   "cell_type": "markdown",
   "metadata": {},
   "source": [
    "Break and Conditional Statements"
   ]
  },
  {
   "cell_type": "markdown",
   "metadata": {},
   "source": [
    "The break statement enables a program to skip over a part of the code. A break statement terminates the very loop it lies within\n",
    "\n",
    "\n",
    "The continue statement skips the rest of the loop statements and causes the next iteration to occur."
   ]
  },
  {
   "cell_type": "code",
   "execution_count": 39,
   "metadata": {},
   "outputs": [
    {
     "name": "stdout",
     "output_type": "stream",
     "text": [
      "6X 1 = 6\n",
      "6X 2 = 12\n",
      "6X 3 = 18\n",
      "6X 4 = 24\n",
      "6X 5 = 30\n",
      "6X 6 = 36\n",
      "6X 7 = 42\n",
      "6X 8 = 48\n",
      "6X 9 = 54\n",
      "6X 10 = 60\n",
      "Came out of loop\n"
     ]
    }
   ],
   "source": [
    "for i in range(13):\n",
    "    if(i==10):\n",
    "        break\n",
    "    print(\"6X\",i+1,\"=\",6*(i+1))\n",
    "    \n",
    "print(\"Came out of loop\")"
   ]
  },
  {
   "cell_type": "code",
   "execution_count": 40,
   "metadata": {},
   "outputs": [
    {
     "name": "stdout",
     "output_type": "stream",
     "text": [
      "6X 1 = 6\n",
      "6X 2 = 12\n",
      "6X 3 = 18\n",
      "6X 4 = 24\n",
      "6X 5 = 30\n",
      "6X 6 = 36\n",
      "6X 7 = 42\n",
      "6X 8 = 48\n",
      "6X 9 = 54\n",
      "6X 10 = 60\n"
     ]
    }
   ],
   "source": [
    "i=0\n",
    "while (i<13):\n",
    "    if(i==10):\n",
    "        break\n",
    "    print(\"6X\",i+1,\"=\",6*(i+1))\n",
    "    i=i+1"
   ]
  },
  {
   "cell_type": "code",
   "execution_count": 38,
   "metadata": {},
   "outputs": [
    {
     "name": "stdout",
     "output_type": "stream",
     "text": [
      "5X 1 = 5\n",
      "5X 2 = 10\n",
      "5X 3 = 15\n",
      "5X 4 = 20\n",
      "5X 5 = 25\n",
      "5X 6 = 30\n",
      "5X 7 = 35\n",
      "5X 8 = 40\n",
      "5X 9 = 45\n",
      "5X 10 = 50\n",
      "Skip the iteraation\n",
      "5X 12 = 60\n",
      "5X 13 = 65\n"
     ]
    }
   ],
   "source": [
    "for i in range(13):\n",
    "    if(i==10):\n",
    "        print(\"Skip the iteration\")\n",
    "        continue \n",
    "    print(\"5X\",i+1,\"=\",5*(i+1))\n",
    "    \n"
   ]
  },
  {
   "cell_type": "code",
   "execution_count": null,
   "metadata": {},
   "outputs": [],
   "source": []
  }
 ],
 "metadata": {
  "kernelspec": {
   "display_name": "Python 3",
   "language": "python",
   "name": "python3"
  },
  "language_info": {
   "codemirror_mode": {
    "name": "ipython",
    "version": 3
   },
   "file_extension": ".py",
   "mimetype": "text/x-python",
   "name": "python",
   "nbconvert_exporter": "python",
   "pygments_lexer": "ipython3",
   "version": "3.11.0"
  }
 },
 "nbformat": 4,
 "nbformat_minor": 2
}
